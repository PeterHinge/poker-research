{
 "cells": [
  {
   "cell_type": "markdown",
   "id": "5fc854e4",
   "metadata": {},
   "source": [
    "# Get Pre & Post Flop Odds For Taxas Hold'em Play "
   ]
  },
  {
   "cell_type": "code",
   "execution_count": 42,
   "id": "d0c4c8e6",
   "metadata": {},
   "outputs": [
    {
     "name": "stdout",
     "output_type": "stream",
     "text": [
      "['Ah', 'Kh', 'Qh', 'Jh', 'Th', '9h', '8h', '7h', '6h', '5h', '4h', '3h', '2h', 'Ad', 'Kd', 'Qd', 'Jd', 'Td', '9d', '8d', '7d', '6d', '5d', '4d', '3d', '2d', 'Ac', 'Kc', 'Qc', 'Jc', 'Tc', '9c', '8c', '7c', '6c', '5c', '4c', '3c', '2c', 'As', 'Ks', 'Qs', 'Js', 'Ts', '9s', '8s', '7s', '6s', '5s', '4s', '3s', '2s']\n"
     ]
    }
   ],
   "source": [
    "cards = []\n",
    "with open(\"cards.names\") as f:\n",
    "    cards += f.read().splitlines()\n",
    "print(cards)"
   ]
  },
  {
   "cell_type": "markdown",
   "id": "8b4f6d69",
   "metadata": {},
   "source": [
    "## Heads Up Odds Without Knowing Opponents Hand"
   ]
  },
  {
   "cell_type": "code",
   "execution_count": 43,
   "id": "64962e5a",
   "metadata": {},
   "outputs": [],
   "source": [
    "preflop_hashmap = {}\n",
    "postflop_hashmap = {}\n",
    "postturn_hashmap = {}\n",
    "postriver_hashmap = {}"
   ]
  },
  {
   "cell_type": "code",
   "execution_count": 48,
   "id": "7c3ad22f",
   "metadata": {},
   "outputs": [
    {
     "name": "stdout",
     "output_type": "stream",
     "text": [
      "('Qh', 'Jh', 'Th', '9h', '8h')\n"
     ]
    },
    {
     "ename": "ZeroDivisionError",
     "evalue": "division by zero",
     "output_type": "error",
     "traceback": [
      "\u001b[1;31m---------------------------------------------------------------------------\u001b[0m",
      "\u001b[1;31mZeroDivisionError\u001b[0m                         Traceback (most recent call last)",
      "Cell \u001b[1;32mIn[48], line 56\u001b[0m\n\u001b[0;32m     51\u001b[0m                 \u001b[38;5;28mprint\u001b[39m(combination)\n\u001b[0;32m     52\u001b[0m                 \u001b[38;5;28;01mbreak\u001b[39;00m\n\u001b[1;32m---> 56\u001b[0m             preflop_hashmap[current_hand] \u001b[38;5;241m=\u001b[39m {\u001b[38;5;28mround\u001b[39m(\u001b[43mpreflop_wins\u001b[49m\u001b[43m \u001b[49m\u001b[38;5;241;43m/\u001b[39;49m\u001b[43m \u001b[49m\u001b[43m(\u001b[49m\u001b[43mpreflop_wins\u001b[49m\u001b[43m \u001b[49m\u001b[38;5;241;43m+\u001b[39;49m\u001b[43m \u001b[49m\u001b[43mpreflop_losses\u001b[49m\u001b[43m)\u001b[49m \u001b[38;5;241m*\u001b[39m \u001b[38;5;241m100\u001b[39m): (preflop_wins, preflop_losses)}\n\u001b[0;32m     64\u001b[0m \u001b[38;5;28mprint\u001b[39m(preflop_hashmap)\n",
      "\u001b[1;31mZeroDivisionError\u001b[0m: division by zero"
     ]
    }
   ],
   "source": [
    "import itertools\n",
    "\n",
    "value_map = {\n",
    "    'A': 14,\n",
    "    'K': 13,\n",
    "    'Q': 12,\n",
    "    'J': 11,\n",
    "    'T': 10\n",
    "}\n",
    "\n",
    "for i in range(13):\n",
    "    for j in range(i+1, 26):\n",
    "        c1, c2 = cards[i], cards[j]\n",
    "        if c1[-1] == c2[-1]: # Suited hands - e.g. AKs, T4s\n",
    "            suited_hand = True\n",
    "            current_hand = c1[0] + c2[0] + 's' \n",
    "        else:\n",
    "            suited_hand = False\n",
    "            if c1[0] == c2[0]: # Paired hands - e.g. AA, TT, 44\n",
    "                current_hand = c1[0] * 2\n",
    "                \n",
    "            else: # Non-suited non-paired hands - e.g. AKo, T4o\n",
    "                if c1[0] in value_map:\n",
    "                    c1_val = value_map[c1[0]]\n",
    "                else:\n",
    "                    c1_val = int(c1[0])\n",
    "                if c2[0] in value_map:\n",
    "                    c2_val = value_map[c2[0]]\n",
    "                else:\n",
    "                    c2_val = int(c2[0])\n",
    "            \n",
    "            \n",
    "            if c1_val > c2_val:\n",
    "                current_hand = c1[0] + c2[0] + 'o'\n",
    "            else:\n",
    "                current_hand = c2[0] + c1[0] + 'o'\n",
    "        \n",
    "        if current_hand not in preflop_hashmap: # Making sure not to loop through dublicate hands\n",
    "        \n",
    "            ####################################################\n",
    "            # CURRENT HAND #\n",
    "            ####################################################\n",
    "        \n",
    "            preflop_wins, preflop_losses = 0, 0\n",
    "            \n",
    "            remaining_cards = [c for c in cards if c not in (c1, c2)]\n",
    "            \n",
    "            board_combinations = list(itertools.combinations(remaining_cards, 5))\n",
    "            \n",
    "            for combination in board_combinations:\n",
    "                print(combination)\n",
    "                break\n",
    "                        \n",
    "                        \n",
    "            \n",
    "            preflop_hashmap[current_hand] = {round(preflop_wins / (preflop_wins + preflop_losses) * 100): (preflop_wins, preflop_losses)}\n",
    "            \n",
    "            \n",
    "\n",
    "\n",
    "            \n",
    "        \n",
    "\n",
    "print(preflop_hashmap)"
   ]
  },
  {
   "cell_type": "code",
   "execution_count": 25,
   "id": "9c2eb90a",
   "metadata": {},
   "outputs": [
    {
     "data": {
      "text/plain": [
       "169"
      ]
     },
     "execution_count": 25,
     "metadata": {},
     "output_type": "execute_result"
    }
   ],
   "source": [
    "13 ** 2"
   ]
  },
  {
   "cell_type": "code",
   "execution_count": null,
   "id": "d5f51adf",
   "metadata": {},
   "outputs": [],
   "source": []
  }
 ],
 "metadata": {
  "kernelspec": {
   "display_name": "Python 3 (ipykernel)",
   "language": "python",
   "name": "python3"
  },
  "language_info": {
   "codemirror_mode": {
    "name": "ipython",
    "version": 3
   },
   "file_extension": ".py",
   "mimetype": "text/x-python",
   "name": "python",
   "nbconvert_exporter": "python",
   "pygments_lexer": "ipython3",
   "version": "3.10.10"
  }
 },
 "nbformat": 4,
 "nbformat_minor": 5
}
